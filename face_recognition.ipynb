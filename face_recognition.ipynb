{
 "cells": [
  {
   "cell_type": "code",
   "execution_count": 1,
   "id": "0b334ab3",
   "metadata": {},
   "outputs": [],
   "source": [
    "import face_recognition as fr\n",
    "import cv2\n",
    "import matplotlib.pyplot as plt\n",
    "import os\n",
    "import pandas as pd\n",
    "import glob\n",
    "import numpy as np"
   ]
  },
  {
   "cell_type": "code",
   "execution_count": 2,
   "id": "1af0d271",
   "metadata": {},
   "outputs": [],
   "source": [
    "def encode_image(img, known_face_locations=None):\n",
    "    if known_face_locations == None:\n",
    "        return fr.face_encodings(img)[0]\n",
    "    return fr.face_encodings(img, known_face_locations=known_face_locations)[0]"
   ]
  },
  {
   "cell_type": "code",
   "execution_count": 3,
   "id": "88d0421d",
   "metadata": {},
   "outputs": [],
   "source": [
    "def is_same_face(img1_encoded, img2_encoded):\n",
    "    return fr.compare_faces([img1_encoded], img2_encoded)[0]"
   ]
  },
  {
   "cell_type": "code",
   "execution_count": 4,
   "id": "63869b00",
   "metadata": {},
   "outputs": [
    {
     "name": "stdout",
     "output_type": "stream",
     "text": [
      "different.\n"
     ]
    }
   ],
   "source": [
    "PATH1 = 'train\\Aaron_Peirsol\\Aaron_Peirsol_0001.jpg'\n",
    "# PATH2 = 'train\\Aaron_Peirsol\\Aaron_Peirsol_0002.jpg'\n",
    "# PATH1 = 'train\\Queen_Elizabeth_II\\Queen_Elizabeth_II_0004.jpg'\n",
    "PATH2 = 'train\\Queen_Elizabeth_II\\Queen_Elizabeth_II_0009.jpg'\n",
    "\n",
    "# different\n",
    "img1 = cv2.imread(PATH1)\n",
    "enc1 = encode_image(img1)\n",
    "img2 = cv2.imread(PATH2)\n",
    "enc2 = encode_image(img2)\n",
    "\n",
    "print('same.' if is_same_face(enc1,enc2) else 'different.')"
   ]
  },
  {
   "cell_type": "code",
   "execution_count": 5,
   "id": "f91550b0",
   "metadata": {},
   "outputs": [
    {
     "name": "stdout",
     "output_type": "stream",
     "text": [
      "same.\n"
     ]
    }
   ],
   "source": [
    "PATH1 = 'train\\Aaron_Peirsol\\Aaron_Peirsol_0001.jpg'\n",
    "PATH2 = 'train\\Aaron_Peirsol\\Aaron_Peirsol_0002.jpg'\n",
    "# PATH1 = 'train\\Queen_Elizabeth_II\\Queen_Elizabeth_II_0004.jpg'\n",
    "# PATH2 = 'train\\Queen_Elizabeth_II\\Queen_Elizabeth_II_0009.jpg'\n",
    "\n",
    "# different\n",
    "img1 = cv2.imread(PATH1)\n",
    "enc1 = encode_image(img1)\n",
    "img2 = cv2.imread(PATH2)\n",
    "enc2 = encode_image(img2)\n",
    "\n",
    "print('same.' if is_same_face(enc1,enc2) else 'different.')"
   ]
  },
  {
   "cell_type": "code",
   "execution_count": null,
   "id": "856a6548",
   "metadata": {},
   "outputs": [],
   "source": [
    "def encode_person(path, name):\n",
    "    image_path = path + '/' + name + \"/*\"\n",
    "    first_image_path = glob.glob(image_path)[0]\n",
    "    img = cv2.imread(first_image_path)\n",
    "    result = None\n",
    "    try:\n",
    "        img = cv2.imread(first_image_path)\n",
    "        result = encode_image(img)\n",
    "    except:\n",
    "        print(name)\n",
    "        result = encode_image(img, [(75, 70, 190, 180)])\n",
    "    return result\n",
    "\n",
    "def make_df(path):\n",
    "    people = [f.name for f in os.scandir(path) if f.is_dir()]\n",
    "    df = pd.DataFrame({'name':people})\n",
    "    df['encode'] = df.apply(lambda x: encode_person(path, x['name']), axis=1)\n",
    "    df.to_csv('face_recognition_df.csv')\n",
    "    return df\n",
    "\n",
    "TRAIN_PATH = 'train'\n",
    "df = make_df(TRAIN_PATH)\n",
    "df"
   ]
  },
  {
   "cell_type": "code",
   "execution_count": null,
   "id": "64fb2c1a",
   "metadata": {},
   "outputs": [],
   "source": [
    "def load_df(path):\n",
    "    return pd.read_csv(path)\n",
    "\n",
    "def make_array(string):\n",
    "    return np.array([float(i) for i in string[1:-1].split()])\n",
    "\n",
    "DF_PATH = 'face_recognition_df.csv'\n",
    "df = load_df(DF_PATH)\n",
    "df['encode'] = df['encode'].apply(lambda x: make_array(x))\n",
    "df"
   ]
  },
  {
   "cell_type": "code",
   "execution_count": null,
   "id": "8b5338eb",
   "metadata": {},
   "outputs": [],
   "source": [
    "def test(path):\n",
    "    names = [f.name for f in os.scandir(path) if f.is_dir()]\n",
    "    for name in names:\n",
    "        image_path = path + '/' + name + '/*'\n",
    "        first_image_path = glob.glob(image_path)[0]\n",
    "        img = cv2.imread(first_image_path)\n",
    "        encode = None\n",
    "        try:\n",
    "            encode = encode_image(img)\n",
    "        except:\n",
    "            encode = encode_image(img, [(75, 70, 190, 180)])\n",
    "        \n",
    "        has_match = False\n",
    "        for n, e in df[['name', 'encode']].values:\n",
    "            if is_same_face(encode, e) and n == name:\n",
    "                print('matched.')\n",
    "                print('name: ' + n)\n",
    "                print('---------------------------------------------------')\n",
    "                has_match = True\n",
    "                break\n",
    "        if not has_match:\n",
    "            print('no match.')\n",
    "            print(name)\n",
    "            print('***************************************************')\n",
    "\n",
    "test('test')"
   ]
  }
 ],
 "metadata": {
  "kernelspec": {
   "display_name": "Python 3 (ipykernel)",
   "language": "python",
   "name": "python3"
  },
  "language_info": {
   "codemirror_mode": {
    "name": "ipython",
    "version": 3
   },
   "file_extension": ".py",
   "mimetype": "text/x-python",
   "name": "python",
   "nbconvert_exporter": "python",
   "pygments_lexer": "ipython3",
   "version": "3.10.2"
  }
 },
 "nbformat": 4,
 "nbformat_minor": 5
}
